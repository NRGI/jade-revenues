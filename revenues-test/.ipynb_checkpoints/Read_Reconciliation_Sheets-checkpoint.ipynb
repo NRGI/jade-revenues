{
 "cells": [
  {
   "cell_type": "code",
   "execution_count": 6,
   "metadata": {
    "collapsed": true
   },
   "outputs": [],
   "source": [
    "import openpyxl as opxl\n",
    "import pandas as pd\n",
    "import re\n",
    "import unicodedata\n"
   ]
  },
  {
   "cell_type": "code",
   "execution_count": 7,
   "metadata": {
    "collapsed": false,
    "scrolled": true
   },
   "outputs": [],
   "source": [
    "#wb1 = opxl.load_workbook('Annex 18 - Reconciliation sheets Oil & Gas 15-16.xlsx')\n",
    "# wb1 = opxl.load_workbook('Annex 18 - Reconciliation sheets Gems & Jade 15-16.xlsx')\n",
    "#print wb1.get_sheet_names()"
   ]
  },
  {
   "cell_type": "code",
   "execution_count": 8,
   "metadata": {
    "collapsed": false
   },
   "outputs": [],
   "source": [
    "xl = pd.ExcelFile('Annex 18 - Reconciliation sheets Gems & Jade 15-16.xlsx')\n",
    "sheets_list = xl.sheet_names\n",
    "#df = xls.parse('Sheet1', skiprows=4, index_col=None, na_values=['NA'])"
   ]
  },
  {
   "cell_type": "code",
   "execution_count": 5,
   "metadata": {
    "collapsed": false
   },
   "outputs": [],
   "source": [
    "def join_column_titles(text):\n",
    "    #print(text)\n",
    "    to_return = \"\"\n",
    "    for t in text:\n",
    "        #print(t)\n",
    "        if not isinstance(t, float):\n",
    "            to_return = '.'.join([to_return,(''.join(i for i in t if ord(i)<128))])\n",
    "    #print(\"FINAL: \" + to_return)\n",
    "    \n",
    "    # remove first '.' from the title\n",
    "    return to_return[1:]"
   ]
  },
  {
   "cell_type": "code",
   "execution_count": 9,
   "metadata": {
    "collapsed": false
   },
   "outputs": [
    {
     "name": "stdout",
     "output_type": "stream",
     "text": [
      "(u'Great Genesis Gems Co; Ltd. (*)', u'636 / 2007 - 2008')\n",
      "Great_Genesis_Gems_Co_Ltd.csv\n",
      "(u'Sein Lom Taung Tan Gems Ltd. (*)', u'1273 of 1996-1997')\n",
      "Sein_Lom_Taung_Tan_Gems_Ltd.csv\n",
      "(u'Wai Aung Gabar Gems Co; Ltd. (*)', u'1999/2010-2011')\n",
      "Wai_Aung_Gabar_Gems_Co_Ltd.csv\n",
      "(u'Ayar Jade Co; Ltd.', u'919/ 1996-1997 (13-9-1996)')\n",
      "Ayar_Jade_Co_Ltd.csv\n",
      "(u'Shwe Pyi Tha Gems Trading & Faceting', u'696/2005-2006')\n",
      "Shwe_Pyi_Tha_Gems_Trading_Faceting.csv\n",
      "(u'Kyaing International Gems (*)', u'92 /2009-2010')\n",
      "Kyaing_International_Gems.csv\n",
      "(u'Linn Lett Win Yadanar Gems (*)', u'1043 / 1995-1996')\n",
      "Linn_Lett_Win_Yadanar_Gems.csv\n",
      "(u'Richest Gems Co;Ltd. (*)', u'1630/1999-2000')\n",
      "Richest_Gems_CoLtd.csv\n",
      "(u'Myat Yamon Gems Co;Ltd. (*)', u'448/95-96')\n",
      "Myat_Yamon_Gems_CoLtd.csv\n",
      "(u'Yadanar Taung Tann Gems ', u'7/2000-2001')\n",
      "Yadanar_Taung_Tann_Gems.csv\n",
      "(u'Khin Zaw Aung & Brothers Gems & Jewellery (*)', u'787 / 2000-2001')\n",
      "Khin_Zaw_Aung_Brothers_Gems_Jewellery.csv\n",
      "(u'Yar Za Htar Ne Gems Co;Ltd. (*)', u'1117/2007-2008')\n",
      "Yar_Za_Htar_Ne_Gems_CoLtd.csv\n",
      "(u'Kachin National Development', 1385)\n",
      "Kachin_National_Development.csv\n",
      "(u'Myanmar Imperial Jade(Gems & Jewellery) (*)', u'742/1994-1995')\n",
      "Myanmar_Imperial_JadeGems_Jewellery.csv\n",
      "(u'Myo Nwe Gems & Jewellery', u'978/2005-2006')\n",
      "Myo_Nwe_Gems_Jewellery.csv\n",
      "(u'Shining Star Light Gems & Jewellery (*)', u'1047/2007-2008 ( 23.11.2007 )')\n",
      "Shining_Star_Light_Gems_Jewellery.csv\n",
      "(u'Kan Pwint Oo Gems & Jewellery', u'990/ 2006-2007')\n",
      "Kan_Pwint_Oo_Gems_Jewellery.csv\n",
      "(u'Green Comet Gems ', u'780/2014-2015 ')\n",
      "Green_Comet_Gems.csv\n",
      "(u'Thi Raw Mani Gems & Jewellery (*)', u'942/1999-2000 (8-October-1999)')\n",
      "Thi_Raw_Mani_Gems_Jewellery.csv\n",
      "(u'Myanma Seinn Lei Aung Gems', u'4361/2012-2013')\n",
      "Myanma_Seinn_Lei_Aung_Gems.csv\n",
      "(u'Nay La Pwint Gems Co; Ltd. (*)', u'737/2007-2008')\n",
      "Nay_La_Pwint_Gems_Co_Ltd.csv\n",
      "(u'Myanmar Win Gate Gems & Jewellery Mining', nan)\n",
      "Myanmar_Win_Gate_Gems_Jewellery_Mining.csv\n",
      "(u'Khaing Lon Gems Co;Ltd.', u'357/1995-1996')\n",
      "Khaing_Lon_Gems_CoLtd.csv\n",
      "(u'Chaow Brothers Gemstone ', u'268/2001-2002')\n",
      "Chaow_Brothers_Gemstone.csv\n",
      "(u'Kyay Lin', u'901/2011-2012')\n",
      "Kyay_Lin.csv\n",
      "(u'Jade Mountain Gems Co;Ltd. (*)', u'2302/2011-2012')\n",
      "Jade_Mountain_Gems_CoLtd.csv\n",
      "(u'Phyo Thiha Kyaw Gems', u'164/2002-2003')\n",
      "Phyo_Thiha_Kyaw_Gems.csv\n",
      "(u'Silver Elephant Gems ', u'1066/2012-2013')\n",
      "Silver_Elephant_Gems.csv\n",
      "(u'Yadanar Yaung Chi Gems Co;Ltd. (*)', u'462 ( 1995 - 1996 )')\n",
      "Yadanar_Yaung_Chi_Gems_CoLtd.csv\n",
      "(u'Myanmar Sithu Jewellery (*)', nan)\n",
      "Myanmar_Sithu_Jewellery.csv\n",
      "(u'Pang Huke Duwa Co; Ltd.', nan)\n",
      "Pang_Huke_Duwa_Co_Ltd.csv\n",
      "(u'Kyay Sin Phyu', u'598 / 1999-2000')\n",
      "Kyay_Sin_Phyu.csv\n",
      "(u'SEIN THURA SAN GEMS COMPANY', nan)\n",
      "SEIN_THURA_SAN_GEMS_COMPANY.csv\n",
      "(u'Lucky Star', nan)\n",
      "Lucky_Star.csv\n",
      "(u'San Taw Win Gems & Jewellery', nan)\n",
      "San_Taw_Win_Gems_Jewellery.csv\n",
      "(u'Yadanar Kaung Kin Gems &JewelleryCo;Ltd', nan)\n",
      "Yadanar_Kaung_Kin_Gems_JewelleryCoLtd.csv\n",
      "(u'Mega Stone Co;Ltd', nan)\n",
      "Mega_Stone_CoLtd.csv\n",
      "(u'Yadanar San Shwin Gems Co., Ltd', nan)\n",
      "Yadanar_San_Shwin_Gems_Co_Ltd.csv\n",
      "(u'Golden Wallet Jewellery Co.,Ltd', u'432/1999-2000')\n",
      "Golden_Wallet_Jewellery_CoLtd.csv\n",
      "(u'SHWE BYAIN PHYU CO', u'220/3004-2005')\n",
      "SHWE_BYAIN_PHYU_CO.csv\n",
      "(u'NILAR YOMA TRADING', u'1675/1999-2000')\n",
      "NILAR_YOMA_TRADING.csv\n",
      "(u'Myanma Gon Yi Gems & Jewellery', u'872/2007-2008')\n",
      "Myanma_Gon_Yi_Gems_Jewellery.csv\n",
      "(u'Ayar Yadanar', u'252/2003-2004')\n",
      "Ayar_Yadanar.csv\n",
      "(u'Kaung Myat Thukha', u'816/1995-1996')\n",
      "Kaung_Myat_Thukha.csv\n",
      "(u'Unity Gems Co;Ltd.', u'363/ 1995-1996')\n",
      "Unity_Gems_CoLtd.csv\n",
      "(u'Thiha & Three Brothers Gems & Jewellery', u'2098 / 2005-2006')\n",
      "Thiha_Three_Brothers_Gems_Jewellery.csv\n",
      "(u'Emerald Garden', u'1113/20067-2007')\n",
      "Emerald_Garden.csv\n",
      "(u'Shwe Gaung Gaung Gems', u'2145 / 2005- 2006')\n",
      "Shwe_Gaung_Gaung_Gems.csv\n",
      "(u'Green Light Treasure \\nCo.,Ltd', u'31 / 2006 -2007')\n",
      "Green_Light_Treasure_CoLtd.csv\n",
      "(u'Xie Family Co.,Ltd (*)', u'34 / 2006-2007')\n",
      "Xie_Family_CoLtd.csv\n",
      "(nan, u'51 / 2006-2007')\n",
      "error parsing names from sheet \"C (52)\"\n",
      "(nan, nan)\n",
      "error parsing names from sheet \"C (53)\"\n",
      "(nan, u'1188/2000-2001')\n",
      "error parsing names from sheet \"C (54)\"\n",
      "(nan, u'786/2002-2003(11.3.2003)')\n",
      "error parsing names from sheet \"C (55)\"\n",
      "(nan, u'1297 / 1995-1996')\n",
      "error parsing names from sheet \"C (56)\"\n",
      "(nan, u'203/2000-2001')\n",
      "error parsing names from sheet \"C (57)\"\n",
      "(nan, u'952/1995-1996')\n",
      "error parsing names from sheet \"C (58)\"\n",
      "(nan, nan)\n",
      "error parsing names from sheet \"C (59)\"\n",
      "(nan, u'1161/2003-2004')\n",
      "error parsing names from sheet \"C (60)\"\n",
      "(nan, u'155/2004-2005 ( 5.4.2004 )')\n",
      "error parsing names from sheet \"C (61)\"\n",
      "(nan, u'792/2002-2003')\n",
      "error parsing names from sheet \"C (62)\"\n",
      "(nan, u'602 of 2011-2012')\n",
      "error parsing names from sheet \"C (63)\"\n",
      "(nan, u'88 / 2000-2001')\n",
      "error parsing names from sheet \"C (64)\"\n",
      "(nan, 1025)\n",
      "error parsing names from sheet \"C (65)\"\n",
      "(nan, nan)\n",
      "error parsing names from sheet \"C (66)\"\n",
      "(nan, u'617 ( 2004 - 2005 )')\n",
      "error parsing names from sheet \"C (67)\"\n",
      "(nan, u'67/2008-2009 (8.4.2008) 1685/MCO')\n",
      "error parsing names from sheet \"C (68)\"\n",
      "(nan, u'137 /2010-2011')\n",
      "error parsing names from sheet \"C (69)\"\n",
      "(nan, nan)\n",
      "error parsing names from sheet \"C (70)\"\n",
      "(nan, nan)\n",
      "error parsing names from sheet \"C (71)\"\n",
      "(nan, u'250/1999-2000')\n",
      "error parsing names from sheet \"C (72)\"\n",
      "error parsing names from sheet \"Unilateral-MGEMoF\"\n"
     ]
    }
   ],
   "source": [
    "for s in sheets_list:\n",
    "    try:\n",
    "        #df = xl.parse('C (1)', skiprows=4, index_col=None, na_values=['NA'])\n",
    "        name_df = xl.parse(s, parse_cols = 'C:E')\n",
    "        company_name = name_df.columns[2]\n",
    "        company_number = name_df[name_df['Company name:'] == 'Registry number'][company_name][0]\n",
    "        print(company_name, company_number)\n",
    "        \n",
    "        df = xl.parse(s, skiprows=4, skip_footer=37, parse_cols = 'B:M', header=None)\n",
    "        df.iloc[0:2] = df.iloc[0:2].fillna(method='ffill', axis=1)\n",
    "        df.columns = df.iloc[0:2].apply(join_column_titles, axis=0)\n",
    "        df = df.iloc[2:33]\n",
    "        \n",
    "        filename = map(lambda x: ''.join(e for e in x if e.isalnum()) , company_name.split(' '))\n",
    "        filename = ' '.join(w for w in filename)\n",
    "        filename = re.sub( '\\s+', '_', filename.strip())+'.csv'\n",
    "        df.to_csv(filename)\n",
    "        print(filename)\n",
    "    except:\n",
    "        print(\"error parsing names from sheet \\\"\" + s + \"\\\"\")"
   ]
  },
  {
   "cell_type": "code",
   "execution_count": null,
   "metadata": {
    "collapsed": false
   },
   "outputs": [],
   "source": [
    "\n",
    "\n"
   ]
  },
  {
   "cell_type": "code",
   "execution_count": null,
   "metadata": {
    "collapsed": false
   },
   "outputs": [],
   "source": []
  },
  {
   "cell_type": "code",
   "execution_count": null,
   "metadata": {
    "collapsed": true
   },
   "outputs": [],
   "source": []
  }
 ],
 "metadata": {
  "kernelspec": {
   "display_name": "Python 2",
   "language": "python",
   "name": "python2"
  },
  "language_info": {
   "codemirror_mode": {
    "name": "ipython",
    "version": 2
   },
   "file_extension": ".py",
   "mimetype": "text/x-python",
   "name": "python",
   "nbconvert_exporter": "python",
   "pygments_lexer": "ipython2",
   "version": "2.7.10"
  }
 },
 "nbformat": 4,
 "nbformat_minor": 1
}
